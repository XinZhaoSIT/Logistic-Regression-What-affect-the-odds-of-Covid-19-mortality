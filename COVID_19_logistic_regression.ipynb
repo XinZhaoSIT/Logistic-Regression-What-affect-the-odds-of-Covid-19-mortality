{
 "cells": [
  {
   "cell_type": "markdown",
   "metadata": {},
   "source": [
    "# COVID19 logistic regression"
   ]
  },
  {
   "cell_type": "code",
   "execution_count": 2,
   "metadata": {},
   "outputs": [],
   "source": [
    "import warnings\n",
    "warnings.filterwarnings('ignore')\n",
    "from IPython.core.interactiveshell import InteractiveShell\n",
    "InteractiveShell.ast_node_interactivity = \"all\""
   ]
  },
  {
   "cell_type": "code",
   "execution_count": 3,
   "metadata": {},
   "outputs": [],
   "source": [
    "import numpy as np\n",
    "import pandas as pd\n",
    "import matplotlib.pyplot as plt\n",
    "import seaborn as sns\n",
    "from sklearn.metrics import roc_curve, auc\n",
    "from sklearn.model_selection import train_test_split\n",
    "from sklearn import preprocessing\n",
    "from sklearn.linear_model import LogisticRegression\n",
    "from sklearn.metrics import accuracy_score\n",
    "from sklearn.metrics import confusion_matrix, classification_report\n",
    "from sklearn.metrics import roc_curve, auc, precision_recall_curve\n",
    "from sklearn.decomposition import PCA\n",
    "from sklearn.pipeline import Pipeline\n",
    "from sklearn.model_selection import GridSearchCV"
   ]
  },
  {
   "cell_type": "code",
   "execution_count": 4,
   "metadata": {},
   "outputs": [
    {
     "data": {
      "text/html": [
       "<div>\n",
       "<style scoped>\n",
       "    .dataframe tbody tr th:only-of-type {\n",
       "        vertical-align: middle;\n",
       "    }\n",
       "\n",
       "    .dataframe tbody tr th {\n",
       "        vertical-align: top;\n",
       "    }\n",
       "\n",
       "    .dataframe thead th {\n",
       "        text-align: right;\n",
       "    }\n",
       "</style>\n",
       "<table border=\"1\" class=\"dataframe\">\n",
       "  <thead>\n",
       "    <tr style=\"text-align: right;\">\n",
       "      <th></th>\n",
       "      <th>cdc_report_dt</th>\n",
       "      <th>onset_dt</th>\n",
       "      <th>current_status</th>\n",
       "      <th>sex</th>\n",
       "      <th>age_group</th>\n",
       "      <th>Race and ethnicity (combined)</th>\n",
       "      <th>hosp_yn</th>\n",
       "      <th>icu_yn</th>\n",
       "      <th>death_yn</th>\n",
       "      <th>medcond_yn</th>\n",
       "      <th>interval_dt</th>\n",
       "    </tr>\n",
       "  </thead>\n",
       "  <tbody>\n",
       "    <tr>\n",
       "      <th>0</th>\n",
       "      <td>2020/8/17</td>\n",
       "      <td>2020/8/9</td>\n",
       "      <td>Laboratory-confirmed case</td>\n",
       "      <td>Male</td>\n",
       "      <td>0 - 9 Years</td>\n",
       "      <td>Unknown</td>\n",
       "      <td>No</td>\n",
       "      <td>No</td>\n",
       "      <td>No</td>\n",
       "      <td>No</td>\n",
       "      <td>8.0</td>\n",
       "    </tr>\n",
       "    <tr>\n",
       "      <th>1</th>\n",
       "      <td>2020/4/10</td>\n",
       "      <td>2020/3/26</td>\n",
       "      <td>Laboratory-confirmed case</td>\n",
       "      <td>Male</td>\n",
       "      <td>0 - 9 Years</td>\n",
       "      <td>Unknown</td>\n",
       "      <td>No</td>\n",
       "      <td>No</td>\n",
       "      <td>No</td>\n",
       "      <td>No</td>\n",
       "      <td>15.0</td>\n",
       "    </tr>\n",
       "    <tr>\n",
       "      <th>2</th>\n",
       "      <td>2020/7/27</td>\n",
       "      <td>2020/7/13</td>\n",
       "      <td>Laboratory-confirmed case</td>\n",
       "      <td>Male</td>\n",
       "      <td>0 - 9 Years</td>\n",
       "      <td>Unknown</td>\n",
       "      <td>No</td>\n",
       "      <td>No</td>\n",
       "      <td>No</td>\n",
       "      <td>No</td>\n",
       "      <td>14.0</td>\n",
       "    </tr>\n",
       "    <tr>\n",
       "      <th>3</th>\n",
       "      <td>2020/8/10</td>\n",
       "      <td>2020/8/5</td>\n",
       "      <td>Laboratory-confirmed case</td>\n",
       "      <td>Male</td>\n",
       "      <td>0 - 9 Years</td>\n",
       "      <td>Unknown</td>\n",
       "      <td>No</td>\n",
       "      <td>No</td>\n",
       "      <td>No</td>\n",
       "      <td>No</td>\n",
       "      <td>5.0</td>\n",
       "    </tr>\n",
       "    <tr>\n",
       "      <th>4</th>\n",
       "      <td>2020/8/17</td>\n",
       "      <td>2020/8/6</td>\n",
       "      <td>Laboratory-confirmed case</td>\n",
       "      <td>Male</td>\n",
       "      <td>0 - 9 Years</td>\n",
       "      <td>Unknown</td>\n",
       "      <td>No</td>\n",
       "      <td>No</td>\n",
       "      <td>No</td>\n",
       "      <td>No</td>\n",
       "      <td>11.0</td>\n",
       "    </tr>\n",
       "  </tbody>\n",
       "</table>\n",
       "</div>"
      ],
      "text/plain": [
       "  cdc_report_dt   onset_dt             current_status   sex    age_group  \\\n",
       "0     2020/8/17   2020/8/9  Laboratory-confirmed case  Male  0 - 9 Years   \n",
       "1     2020/4/10  2020/3/26  Laboratory-confirmed case  Male  0 - 9 Years   \n",
       "2     2020/7/27  2020/7/13  Laboratory-confirmed case  Male  0 - 9 Years   \n",
       "3     2020/8/10   2020/8/5  Laboratory-confirmed case  Male  0 - 9 Years   \n",
       "4     2020/8/17   2020/8/6  Laboratory-confirmed case  Male  0 - 9 Years   \n",
       "\n",
       "  Race and ethnicity (combined) hosp_yn icu_yn death_yn medcond_yn  \\\n",
       "0                       Unknown      No     No       No         No   \n",
       "1                       Unknown      No     No       No         No   \n",
       "2                       Unknown      No     No       No         No   \n",
       "3                       Unknown      No     No       No         No   \n",
       "4                       Unknown      No     No       No         No   \n",
       "\n",
       "   interval_dt  \n",
       "0          8.0  \n",
       "1         15.0  \n",
       "2         14.0  \n",
       "3          5.0  \n",
       "4         11.0  "
      ]
     },
     "execution_count": 4,
     "metadata": {},
     "output_type": "execute_result"
    }
   ],
   "source": [
    "data = pd.read_csv('COVID-19_Case_Data_Clean.csv')\n",
    "data.head()"
   ]
  },
  {
   "cell_type": "code",
   "execution_count": 5,
   "metadata": {},
   "outputs": [
    {
     "data": {
      "text/plain": [
       "cdc_report_dt                    261\n",
       "onset_dt                         300\n",
       "current_status                     2\n",
       "sex                                2\n",
       "age_group                         10\n",
       "Race and ethnicity (combined)      8\n",
       "hosp_yn                            2\n",
       "icu_yn                             2\n",
       "death_yn                           2\n",
       "medcond_yn                         2\n",
       "interval_dt                      361\n",
       "dtype: int64"
      ]
     },
     "execution_count": 5,
     "metadata": {},
     "output_type": "execute_result"
    }
   ],
   "source": [
    "data.apply(lambda col: len(col.unique()))"
   ]
  },
  {
   "cell_type": "code",
   "execution_count": 6,
   "metadata": {},
   "outputs": [
    {
     "data": {
      "text/html": [
       "<div>\n",
       "<style scoped>\n",
       "    .dataframe tbody tr th:only-of-type {\n",
       "        vertical-align: middle;\n",
       "    }\n",
       "\n",
       "    .dataframe tbody tr th {\n",
       "        vertical-align: top;\n",
       "    }\n",
       "\n",
       "    .dataframe thead th {\n",
       "        text-align: right;\n",
       "    }\n",
       "</style>\n",
       "<table border=\"1\" class=\"dataframe\">\n",
       "  <thead>\n",
       "    <tr style=\"text-align: right;\">\n",
       "      <th></th>\n",
       "      <th>cdc_report_dt</th>\n",
       "      <th>onset_dt</th>\n",
       "      <th>interval_dt</th>\n",
       "      <th>current_status_Probable Case</th>\n",
       "      <th>sex_Male</th>\n",
       "      <th>age_group_10 - 19 Years</th>\n",
       "      <th>age_group_20 - 29 Years</th>\n",
       "      <th>age_group_30 - 39 Years</th>\n",
       "      <th>age_group_40 - 49 Years</th>\n",
       "      <th>age_group_50 - 59 Years</th>\n",
       "      <th>...</th>\n",
       "      <th>Race and ethnicity (combined)_Black, Non-Hispanic</th>\n",
       "      <th>Race and ethnicity (combined)_Hispanic/Latino</th>\n",
       "      <th>Race and ethnicity (combined)_Multiple/Other, Non-Hispanic</th>\n",
       "      <th>Race and ethnicity (combined)_Native Hawaiian/Other Pacific Islander, Non-Hispanic</th>\n",
       "      <th>Race and ethnicity (combined)_Unknown</th>\n",
       "      <th>Race and ethnicity (combined)_White, Non-Hispanic</th>\n",
       "      <th>hosp_yn_Yes</th>\n",
       "      <th>icu_yn_Yes</th>\n",
       "      <th>death_yn_Yes</th>\n",
       "      <th>medcond_yn_Yes</th>\n",
       "    </tr>\n",
       "  </thead>\n",
       "  <tbody>\n",
       "    <tr>\n",
       "      <th>0</th>\n",
       "      <td>2020/8/17</td>\n",
       "      <td>2020/8/9</td>\n",
       "      <td>8.0</td>\n",
       "      <td>0</td>\n",
       "      <td>1</td>\n",
       "      <td>0</td>\n",
       "      <td>0</td>\n",
       "      <td>0</td>\n",
       "      <td>0</td>\n",
       "      <td>0</td>\n",
       "      <td>...</td>\n",
       "      <td>0</td>\n",
       "      <td>0</td>\n",
       "      <td>0</td>\n",
       "      <td>0</td>\n",
       "      <td>1</td>\n",
       "      <td>0</td>\n",
       "      <td>0</td>\n",
       "      <td>0</td>\n",
       "      <td>0</td>\n",
       "      <td>0</td>\n",
       "    </tr>\n",
       "    <tr>\n",
       "      <th>1</th>\n",
       "      <td>2020/4/10</td>\n",
       "      <td>2020/3/26</td>\n",
       "      <td>15.0</td>\n",
       "      <td>0</td>\n",
       "      <td>1</td>\n",
       "      <td>0</td>\n",
       "      <td>0</td>\n",
       "      <td>0</td>\n",
       "      <td>0</td>\n",
       "      <td>0</td>\n",
       "      <td>...</td>\n",
       "      <td>0</td>\n",
       "      <td>0</td>\n",
       "      <td>0</td>\n",
       "      <td>0</td>\n",
       "      <td>1</td>\n",
       "      <td>0</td>\n",
       "      <td>0</td>\n",
       "      <td>0</td>\n",
       "      <td>0</td>\n",
       "      <td>0</td>\n",
       "    </tr>\n",
       "    <tr>\n",
       "      <th>2</th>\n",
       "      <td>2020/7/27</td>\n",
       "      <td>2020/7/13</td>\n",
       "      <td>14.0</td>\n",
       "      <td>0</td>\n",
       "      <td>1</td>\n",
       "      <td>0</td>\n",
       "      <td>0</td>\n",
       "      <td>0</td>\n",
       "      <td>0</td>\n",
       "      <td>0</td>\n",
       "      <td>...</td>\n",
       "      <td>0</td>\n",
       "      <td>0</td>\n",
       "      <td>0</td>\n",
       "      <td>0</td>\n",
       "      <td>1</td>\n",
       "      <td>0</td>\n",
       "      <td>0</td>\n",
       "      <td>0</td>\n",
       "      <td>0</td>\n",
       "      <td>0</td>\n",
       "    </tr>\n",
       "    <tr>\n",
       "      <th>3</th>\n",
       "      <td>2020/8/10</td>\n",
       "      <td>2020/8/5</td>\n",
       "      <td>5.0</td>\n",
       "      <td>0</td>\n",
       "      <td>1</td>\n",
       "      <td>0</td>\n",
       "      <td>0</td>\n",
       "      <td>0</td>\n",
       "      <td>0</td>\n",
       "      <td>0</td>\n",
       "      <td>...</td>\n",
       "      <td>0</td>\n",
       "      <td>0</td>\n",
       "      <td>0</td>\n",
       "      <td>0</td>\n",
       "      <td>1</td>\n",
       "      <td>0</td>\n",
       "      <td>0</td>\n",
       "      <td>0</td>\n",
       "      <td>0</td>\n",
       "      <td>0</td>\n",
       "    </tr>\n",
       "    <tr>\n",
       "      <th>4</th>\n",
       "      <td>2020/8/17</td>\n",
       "      <td>2020/8/6</td>\n",
       "      <td>11.0</td>\n",
       "      <td>0</td>\n",
       "      <td>1</td>\n",
       "      <td>0</td>\n",
       "      <td>0</td>\n",
       "      <td>0</td>\n",
       "      <td>0</td>\n",
       "      <td>0</td>\n",
       "      <td>...</td>\n",
       "      <td>0</td>\n",
       "      <td>0</td>\n",
       "      <td>0</td>\n",
       "      <td>0</td>\n",
       "      <td>1</td>\n",
       "      <td>0</td>\n",
       "      <td>0</td>\n",
       "      <td>0</td>\n",
       "      <td>0</td>\n",
       "      <td>0</td>\n",
       "    </tr>\n",
       "  </tbody>\n",
       "</table>\n",
       "<p>5 rows × 24 columns</p>\n",
       "</div>"
      ],
      "text/plain": [
       "  cdc_report_dt   onset_dt  interval_dt  current_status_Probable Case  \\\n",
       "0     2020/8/17   2020/8/9          8.0                             0   \n",
       "1     2020/4/10  2020/3/26         15.0                             0   \n",
       "2     2020/7/27  2020/7/13         14.0                             0   \n",
       "3     2020/8/10   2020/8/5          5.0                             0   \n",
       "4     2020/8/17   2020/8/6         11.0                             0   \n",
       "\n",
       "   sex_Male  age_group_10 - 19 Years  age_group_20 - 29 Years  \\\n",
       "0         1                        0                        0   \n",
       "1         1                        0                        0   \n",
       "2         1                        0                        0   \n",
       "3         1                        0                        0   \n",
       "4         1                        0                        0   \n",
       "\n",
       "   age_group_30 - 39 Years  age_group_40 - 49 Years  age_group_50 - 59 Years  \\\n",
       "0                        0                        0                        0   \n",
       "1                        0                        0                        0   \n",
       "2                        0                        0                        0   \n",
       "3                        0                        0                        0   \n",
       "4                        0                        0                        0   \n",
       "\n",
       "   ...  Race and ethnicity (combined)_Black, Non-Hispanic  \\\n",
       "0  ...                                                  0   \n",
       "1  ...                                                  0   \n",
       "2  ...                                                  0   \n",
       "3  ...                                                  0   \n",
       "4  ...                                                  0   \n",
       "\n",
       "   Race and ethnicity (combined)_Hispanic/Latino  \\\n",
       "0                                              0   \n",
       "1                                              0   \n",
       "2                                              0   \n",
       "3                                              0   \n",
       "4                                              0   \n",
       "\n",
       "   Race and ethnicity (combined)_Multiple/Other, Non-Hispanic  \\\n",
       "0                                                  0            \n",
       "1                                                  0            \n",
       "2                                                  0            \n",
       "3                                                  0            \n",
       "4                                                  0            \n",
       "\n",
       "   Race and ethnicity (combined)_Native Hawaiian/Other Pacific Islander, Non-Hispanic  \\\n",
       "0                                                  0                                    \n",
       "1                                                  0                                    \n",
       "2                                                  0                                    \n",
       "3                                                  0                                    \n",
       "4                                                  0                                    \n",
       "\n",
       "   Race and ethnicity (combined)_Unknown  \\\n",
       "0                                      1   \n",
       "1                                      1   \n",
       "2                                      1   \n",
       "3                                      1   \n",
       "4                                      1   \n",
       "\n",
       "   Race and ethnicity (combined)_White, Non-Hispanic  hosp_yn_Yes  icu_yn_Yes  \\\n",
       "0                                                  0            0           0   \n",
       "1                                                  0            0           0   \n",
       "2                                                  0            0           0   \n",
       "3                                                  0            0           0   \n",
       "4                                                  0            0           0   \n",
       "\n",
       "   death_yn_Yes  medcond_yn_Yes  \n",
       "0             0               0  \n",
       "1             0               0  \n",
       "2             0               0  \n",
       "3             0               0  \n",
       "4             0               0  \n",
       "\n",
       "[5 rows x 24 columns]"
      ]
     },
     "execution_count": 6,
     "metadata": {},
     "output_type": "execute_result"
    },
    {
     "data": {
      "text/plain": [
       "(411862, 24)"
      ]
     },
     "execution_count": 6,
     "metadata": {},
     "output_type": "execute_result"
    }
   ],
   "source": [
    "col = ['current_status','sex','age_group','Race and ethnicity (combined)','hosp_yn','icu_yn','death_yn','medcond_yn']\n",
    "df = pd.get_dummies(data, columns = col, drop_first=True)\n",
    "df.head()\n",
    "df.shape"
   ]
  },
  {
   "cell_type": "code",
   "execution_count": 7,
   "metadata": {},
   "outputs": [
    {
     "data": {
      "text/plain": [
       "(369690, 24)"
      ]
     },
     "execution_count": 7,
     "metadata": {},
     "output_type": "execute_result"
    }
   ],
   "source": [
    "df=df.dropna(subset=['interval_dt'],axis=0)\n",
    "df.shape"
   ]
  },
  {
   "cell_type": "code",
   "execution_count": 33,
   "metadata": {},
   "outputs": [
    {
     "data": {
      "text/plain": [
       "Index(['cdc_report_dt', 'onset_dt', 'interval_dt',\n",
       "       'current_status_Probable Case', 'sex_Male', 'age_group_10 - 19 Years',\n",
       "       'age_group_20 - 29 Years', 'age_group_30 - 39 Years',\n",
       "       'age_group_40 - 49 Years', 'age_group_50 - 59 Years',\n",
       "       'age_group_60 - 69 Years', 'age_group_70 - 79 Years',\n",
       "       'age_group_80+ Years',\n",
       "       'Race and ethnicity (combined)_Asian, Non-Hispanic',\n",
       "       'Race and ethnicity (combined)_Black, Non-Hispanic',\n",
       "       'Race and ethnicity (combined)_Hispanic/Latino',\n",
       "       'Race and ethnicity (combined)_Multiple/Other, Non-Hispanic',\n",
       "       'Race and ethnicity (combined)_Native Hawaiian/Other Pacific Islander, Non-Hispanic',\n",
       "       'Race and ethnicity (combined)_Unknown',\n",
       "       'Race and ethnicity (combined)_White, Non-Hispanic', 'hosp_yn_Yes',\n",
       "       'icu_yn_Yes', 'death_yn_Yes', 'medcond_yn_Yes'],\n",
       "      dtype='object')"
      ]
     },
     "execution_count": 33,
     "metadata": {},
     "output_type": "execute_result"
    }
   ],
   "source": [
    "df.columns"
   ]
  },
  {
   "cell_type": "code",
   "execution_count": 82,
   "metadata": {},
   "outputs": [
    {
     "data": {
      "image/png": "[encoded data removed]",
      "text/plain": [
       "<Figure size 432x288 with 2 Axes>"
      ]
     },
     "metadata": {
      "needs_background": "light"
     },
     "output_type": "display_data"
    }
   ],
   "source": [
    "corr = df.drop('death_yn_Yes', axis =1).corr()\n",
    "sns.heatmap(corr[(corr >= 0.5) |(corr <= -0.5)],\n",
    "           cmap= 'viridis', vmax = 1.0, vmin = -1.0, linewidths = 0.1,\n",
    "           annot = True, annot_kws={\"size\":8}, square =True);"
   ]
  },
  {
   "cell_type": "code",
   "execution_count": 9,
   "metadata": {},
   "outputs": [],
   "source": [
    "y = df['death_yn_Yes']\n",
    "x = df.drop(['death_yn_Yes','cdc_report_dt','onset_dt'], axis = 1)\n",
    "x_train, x_test, y_train, y_test = train_test_split(x, y, test_size = 0.2, random_state = 42)"
   ]
  },
  {
   "cell_type": "code",
   "execution_count": 10,
   "metadata": {},
   "outputs": [
    {
     "name": "stdout",
     "output_type": "stream",
     "text": [
      "Fitting 5 folds for each of 90 candidates, totalling 450 fits\n"
     ]
    },
    {
     "name": "stderr",
     "output_type": "stream",
     "text": [
      "[Parallel(n_jobs=1)]: Using backend SequentialBackend with 1 concurrent workers.\n",
      "[Parallel(n_jobs=1)]: Done 450 out of 450 | elapsed: 40.5min finished\n"
     ]
    }
   ],
   "source": [
    "pipe = Pipeline([('pca', PCA()),('lg', LogisticRegression(C=0.01, solver = 'lbfgs', max_iter = 1000))])\n",
    "param_grid = {'pca__n_components':  range(5, 20),'lg__C':[1000,100,10,1,0.1,0.01]}\n",
    "grid = GridSearchCV(pipe, cv = 5, param_grid = param_grid, scoring = 'roc_auc', refit=True, verbose=1)\n",
    "grid_fit = grid.fit(x_train, y_train)"
   ]
  },
  {
   "cell_type": "code",
   "execution_count": 11,
   "metadata": {},
   "outputs": [
    {
     "name": "stdout",
     "output_type": "stream",
     "text": [
      "Model with rank: 1\n",
      "Mean validation score: 0.962 (std: 0.001)\n",
      "Parameters: {'lg__C': 0.1, 'pca__n_components': 17}\n",
      "\n",
      "Model with rank: 2\n",
      "Mean validation score: 0.962 (std: 0.001)\n",
      "Parameters: {'lg__C': 0.1, 'pca__n_components': 18}\n",
      "\n",
      "Model with rank: 3\n",
      "Mean validation score: 0.962 (std: 0.001)\n",
      "Parameters: {'lg__C': 0.1, 'pca__n_components': 19}\n",
      "\n"
     ]
    }
   ],
   "source": [
    "def report(results, n_top=3):\n",
    "    for i in range(1, n_top + 1):\n",
    "        candidates = np.flatnonzero(results['rank_test_score'] == i)\n",
    "        for candidate in candidates:\n",
    "            print(\"Model with rank: {0}\".format(i))\n",
    "            print(\"Mean validation score: {0:.3f} (std: {1:.3f})\".format(\n",
    "                  results['mean_test_score'][candidate],\n",
    "                  results['std_test_score'][candidate]))\n",
    "            print(\"Parameters: {0}\".format(results['params'][candidate]))\n",
    "            print(\"\")\n",
    "report(grid.cv_results_)"
   ]
  },
  {
   "cell_type": "code",
   "execution_count": 12,
   "metadata": {},
   "outputs": [
    {
     "name": "stdout",
     "output_type": "stream",
     "text": [
      "AUC: 0.96\n"
     ]
    }
   ],
   "source": [
    "predict_prob = grid.predict_proba(x_test)\n",
    "\n",
    "fpr, tpr, thresholds = roc_curve(y_test, predict_prob[:, 1])\n",
    "\n",
    "print('AUC: {:.2f}'.format(auc(fpr, tpr)))"
   ]
  },
  {
   "cell_type": "code",
   "execution_count": 84,
   "metadata": {},
   "outputs": [
    {
     "data": {
      "text/plain": [
       "<Figure size 504x360 with 0 Axes>"
      ]
     },
     "execution_count": 84,
     "metadata": {},
     "output_type": "execute_result"
    },
    {
     "data": {
      "text/plain": [
       "[<matplotlib.lines.Line2D at 0x15d9d363f88>]"
      ]
     },
     "execution_count": 84,
     "metadata": {},
     "output_type": "execute_result"
    },
    {
     "data": {
      "text/plain": [
       "[<matplotlib.lines.Line2D at 0x15d9d33ec88>]"
      ]
     },
     "execution_count": 84,
     "metadata": {},
     "output_type": "execute_result"
    },
    {
     "data": {
      "text/plain": [
       "Text(0.5, 1.0, 'AUC of Logistic Model')"
      ]
     },
     "execution_count": 84,
     "metadata": {},
     "output_type": "execute_result"
    },
    {
     "data": {
      "text/plain": [
       "Text(0.5, 0, 'False Positive Rate (1-Specificity)')"
      ]
     },
     "execution_count": 84,
     "metadata": {},
     "output_type": "execute_result"
    },
    {
     "data": {
      "text/plain": [
       "Text(0, 0.5, 'True Positive Rate (Recall)')"
      ]
     },
     "execution_count": 84,
     "metadata": {},
     "output_type": "execute_result"
    },
    {
     "data": {
      "text/plain": [
       "(0.0, 1.0)"
      ]
     },
     "execution_count": 84,
     "metadata": {},
     "output_type": "execute_result"
    },
    {
     "data": {
      "text/plain": [
       "(0.0, 1.0)"
      ]
     },
     "execution_count": 84,
     "metadata": {},
     "output_type": "execute_result"
    },
    {
     "data": {
      "text/plain": [
       "<matplotlib.legend.Legend at 0x15d9d36d348>"
      ]
     },
     "execution_count": 84,
     "metadata": {},
     "output_type": "execute_result"
    },
    {
     "data": {
      "image/png": "[encoded data removed]",
      "text/plain": [
       "<Figure size 504x360 with 1 Axes>"
      ]
     },
     "metadata": {
      "needs_background": "light"
     },
     "output_type": "display_data"
    }
   ],
   "source": [
    "plt.figure(figsize = (7, 5))\n",
    "plt.plot(fpr, tpr, color = 'darkorange', lw = 2, label = 'Logistic Reg')\n",
    "plt.plot([0, 1], [0, 1], color = 'navy', lw = 2, linestyle = '--', label = 'Random Guess')\n",
    "plt.title('AUC of Logistic Model')\n",
    "plt.xlabel('False Positive Rate (1-Specificity)')\n",
    "plt.ylabel('True Positive Rate (Recall)' )\n",
    "plt.xlim([0.0, 1.0])\n",
    "plt.ylim([0.0, 1.0])\n",
    "plt.legend()\n",
    "\n",
    "plt.savefig('AUC.png')"
   ]
  },
  {
   "cell_type": "code",
   "execution_count": 14,
   "metadata": {},
   "outputs": [
    {
     "name": "stdout",
     "output_type": "stream",
     "text": [
      "confusion matrix:\n",
      " [[68162  1113]\n",
      " [ 2467  2196]]\n",
      "classification report:\n",
      "               precision    recall  f1-score   support\n",
      "\n",
      "           0       0.97      0.98      0.97     69275\n",
      "           1       0.66      0.47      0.55      4663\n",
      "\n",
      "    accuracy                           0.95     73938\n",
      "   macro avg       0.81      0.73      0.76     73938\n",
      "weighted avg       0.95      0.95      0.95     73938\n",
      "\n"
     ]
    }
   ],
   "source": [
    "predict = grid.predict(x_test)\n",
    "cm = confusion_matrix(y_test, predict)\n",
    "print('confusion matrix:\\n', cm)\n",
    "\n",
    "print('classification report:\\n', classification_report(y_test, predict))"
   ]
  },
  {
   "cell_type": "code",
   "execution_count": 28,
   "metadata": {},
   "outputs": [
    {
     "data": {
      "text/plain": [
       "LogisticRegression(C=0.1, max_iter=1000)"
      ]
     },
     "execution_count": 28,
     "metadata": {},
     "output_type": "execute_result"
    }
   ],
   "source": [
    "lg = LogisticRegression(C=0.1, solver = 'lbfgs', max_iter = 1000)\n",
    "lg.fit(x_train, y_train)"
   ]
  },
  {
   "cell_type": "code",
   "execution_count": 62,
   "metadata": {},
   "outputs": [
    {
     "data": {
      "text/plain": [
       "Index(['interval_dt', 'current_status_Probable Case', 'sex_Male',\n",
       "       'age_group_10 - 19 Years', 'age_group_20 - 29 Years',\n",
       "       'age_group_30 - 39 Years', 'age_group_40 - 49 Years',\n",
       "       'age_group_50 - 59 Years', 'age_group_60 - 69 Years',\n",
       "       'age_group_70 - 79 Years', 'age_group_80+ Years',\n",
       "       'Race and ethnicity (combined)_Asian, Non-Hispanic',\n",
       "       'Race and ethnicity (combined)_Black, Non-Hispanic',\n",
       "       'Race and ethnicity (combined)_Hispanic/Latino',\n",
       "       'Race and ethnicity (combined)_Multiple/Other, Non-Hispanic',\n",
       "       'Race and ethnicity (combined)_Native Hawaiian/Other Pacific Islander, Non-Hispanic',\n",
       "       'Race and ethnicity (combined)_Unknown',\n",
       "       'Race and ethnicity (combined)_White, Non-Hispanic', 'hosp_yn_Yes',\n",
       "       'icu_yn_Yes', 'medcond_yn_Yes'],\n",
       "      dtype='object')"
      ]
     },
     "execution_count": 62,
     "metadata": {},
     "output_type": "execute_result"
    }
   ],
   "source": [
    "x_train.columns"
   ]
  },
  {
   "cell_type": "code",
   "execution_count": 69,
   "metadata": {},
   "outputs": [
    {
     "data": {
      "text/plain": [
       "array([[ 1.28256319e-02, -4.36428507e-01,  3.00363309e-01,\n",
       "        -1.39830121e+00, -1.10784889e+00, -5.62200534e-01,\n",
       "        -9.56421561e-05,  5.59910396e-01,  1.19607620e+00,\n",
       "         1.92937583e+00,  3.34557577e+00,  1.30381325e-01,\n",
       "         4.62867313e-02,  1.01137844e-01, -3.21473212e-02,\n",
       "        -3.56092362e-01, -2.56451540e-01, -2.05145298e-01,\n",
       "         1.63125847e+00,  2.04866521e+00,  1.20027610e+00]])"
      ]
     },
     "execution_count": 69,
     "metadata": {},
     "output_type": "execute_result"
    }
   ],
   "source": [
    "lg.coef_"
   ]
  },
  {
   "cell_type": "markdown",
   "metadata": {},
   "source": [
    "### sex"
   ]
  },
  {
   "cell_type": "code",
   "execution_count": 77,
   "metadata": {},
   "outputs": [
    {
     "data": {
      "text/plain": [
       "array([0.30036331])"
      ]
     },
     "execution_count": 77,
     "metadata": {},
     "output_type": "execute_result"
    }
   ],
   "source": [
    "lg.coef_[:,2]"
   ]
  },
  {
   "cell_type": "code",
   "execution_count": 87,
   "metadata": {},
   "outputs": [
    {
     "data": {
      "text/plain": [
       "1.3503493138769103"
      ]
     },
     "execution_count": 87,
     "metadata": {},
     "output_type": "execute_result"
    }
   ],
   "source": [
    "np.exp(0.30036331)"
   ]
  },
  {
   "cell_type": "markdown",
   "metadata": {},
   "source": [
    "### ethnic"
   ]
  },
  {
   "cell_type": "code",
   "execution_count": 75,
   "metadata": {},
   "outputs": [
    {
     "data": {
      "text/plain": [
       "array([[ 0.13038133,  0.04628673,  0.10113784, -0.03214732, -0.35609236,\n",
       "        -0.25645154, -0.2051453 ]])"
      ]
     },
     "execution_count": 75,
     "metadata": {},
     "output_type": "execute_result"
    }
   ],
   "source": [
    "lg.coef_[:,11:18]"
   ]
  },
  {
   "cell_type": "code",
   "execution_count": 88,
   "metadata": {},
   "outputs": [
    {
     "data": {
      "text/plain": [
       "array([[1.13926273, 1.04737468, 1.10642915, 0.96836391, 0.70040793,\n",
       "        0.77379249, 0.81452896]])"
      ]
     },
     "execution_count": 88,
     "metadata": {},
     "output_type": "execute_result"
    }
   ],
   "source": [
    "np.exp(lg.coef_[:,11:18])"
   ]
  },
  {
   "cell_type": "markdown",
   "metadata": {},
   "source": [
    "### age group"
   ]
  },
  {
   "cell_type": "code",
   "execution_count": 92,
   "metadata": {},
   "outputs": [
    {
     "data": {
      "text/plain": [
       "array([[-1.39830121e+00, -1.10784889e+00, -5.62200534e-01,\n",
       "        -9.56421561e-05,  5.59910396e-01,  1.19607620e+00,\n",
       "         1.92937583e+00,  3.34557577e+00]])"
      ]
     },
     "execution_count": 92,
     "metadata": {},
     "output_type": "execute_result"
    }
   ],
   "source": [
    "lg.coef_[:,3:11]"
   ]
  },
  {
   "cell_type": "code",
   "execution_count": 93,
   "metadata": {},
   "outputs": [
    {
     "data": {
      "text/plain": [
       "array([[ 0.24701624,  0.33026864,  0.56995348,  0.99990436,  1.75051564,\n",
       "         3.30711498,  6.88521138, 28.37690944]])"
      ]
     },
     "execution_count": 93,
     "metadata": {},
     "output_type": "execute_result"
    }
   ],
   "source": [
    "np.exp(lg.coef_[:,3:11])"
   ]
  },
  {
   "cell_type": "markdown",
   "metadata": {},
   "source": [
    "### Probable Case"
   ]
  },
  {
   "cell_type": "code",
   "execution_count": 78,
   "metadata": {},
   "outputs": [
    {
     "data": {
      "text/plain": [
       "array([-0.43642851])"
      ]
     },
     "execution_count": 78,
     "metadata": {},
     "output_type": "execute_result"
    }
   ],
   "source": [
    "lg.coef_[:,1]"
   ]
  },
  {
   "cell_type": "code",
   "execution_count": 89,
   "metadata": {},
   "outputs": [
    {
     "data": {
      "text/plain": [
       "array([0.6463407])"
      ]
     },
     "execution_count": 89,
     "metadata": {},
     "output_type": "execute_result"
    }
   ],
   "source": [
    "np.exp(lg.coef_[:,1])"
   ]
  },
  {
   "cell_type": "markdown",
   "metadata": {},
   "source": [
    "### interval_dt"
   ]
  },
  {
   "cell_type": "code",
   "execution_count": 79,
   "metadata": {},
   "outputs": [
    {
     "data": {
      "text/plain": [
       "array([0.01282563])"
      ]
     },
     "execution_count": 79,
     "metadata": {},
     "output_type": "execute_result"
    }
   ],
   "source": [
    "lg.coef_[:,0]"
   ]
  },
  {
   "cell_type": "markdown",
   "metadata": {},
   "source": [
    "### Hosp, ICU, medcon"
   ]
  },
  {
   "cell_type": "code",
   "execution_count": 80,
   "metadata": {},
   "outputs": [
    {
     "data": {
      "text/plain": [
       "array([[1.63125847, 2.04866521, 1.2002761 ]])"
      ]
     },
     "execution_count": 80,
     "metadata": {},
     "output_type": "execute_result"
    }
   ],
   "source": [
    "lg.coef_[:,18:21]"
   ]
  },
  {
   "cell_type": "code",
   "execution_count": 90,
   "metadata": {},
   "outputs": [
    {
     "data": {
      "text/plain": [
       "array([[5.11030183, 7.75753952, 3.32103372]])"
      ]
     },
     "execution_count": 90,
     "metadata": {},
     "output_type": "execute_result"
    }
   ],
   "source": [
    "np.exp(lg.coef_[:,18:21])"
   ]
  },
  {
   "cell_type": "markdown",
   "metadata": {},
   "source": [
    "### intercept"
   ]
  },
  {
   "cell_type": "code",
   "execution_count": 30,
   "metadata": {},
   "outputs": [
    {
     "data": {
      "text/plain": [
       "array([-6.29735742])"
      ]
     },
     "execution_count": 30,
     "metadata": {},
     "output_type": "execute_result"
    }
   ],
   "source": [
    "lg.intercept_"
   ]
  },
  {
   "cell_type": "code",
   "execution_count": 32,
   "metadata": {},
   "outputs": [
    {
     "data": {
      "text/plain": [
       "3.3455757665951906"
      ]
     },
     "execution_count": 32,
     "metadata": {},
     "output_type": "execute_result"
    }
   ],
   "source": [
    "np.max(lg.coef_)"
   ]
  },
  {
   "cell_type": "code",
   "execution_count": 40,
   "metadata": {},
   "outputs": [
    {
     "data": {
      "text/plain": [
       "-1.3983012066614569"
      ]
     },
     "execution_count": 40,
     "metadata": {},
     "output_type": "execute_result"
    }
   ],
   "source": [
    "np.min(lg.coef_)"
   ]
  },
  {
   "cell_type": "code",
   "execution_count": 38,
   "metadata": {},
   "outputs": [
    {
     "name": "stdout",
     "output_type": "stream",
     "text": [
      "AUC: 0.96\n"
     ]
    }
   ],
   "source": [
    "predict_prob_lg = lg.predict_proba(x_test)\n",
    "\n",
    "fpr2, tpr2, thresholds2 = roc_curve(y_test, predict_prob_lg[:, 1])\n",
    "\n",
    "print('AUC: {:.2f}'.format(auc(fpr2, tpr2)))"
   ]
  },
  {
   "cell_type": "code",
   "execution_count": 39,
   "metadata": {},
   "outputs": [
    {
     "name": "stdout",
     "output_type": "stream",
     "text": [
      "confusion matrix:\n",
      " [[68155  1120]\n",
      " [ 2465  2198]]\n",
      "classification report:\n",
      "               precision    recall  f1-score   support\n",
      "\n",
      "           0       0.97      0.98      0.97     69275\n",
      "           1       0.66      0.47      0.55      4663\n",
      "\n",
      "    accuracy                           0.95     73938\n",
      "   macro avg       0.81      0.73      0.76     73938\n",
      "weighted avg       0.95      0.95      0.95     73938\n",
      "\n"
     ]
    }
   ],
   "source": [
    "predict2 = lg.predict(x_test)\n",
    "cm2 = confusion_matrix(y_test, predict2)\n",
    "print('confusion matrix:\\n', cm2)\n",
    "\n",
    "print('classification report:\\n', classification_report(y_test, predict2))"
   ]
  },
  {
   "cell_type": "code",
   "execution_count": 42,
   "metadata": {},
   "outputs": [
    {
     "data": {
      "text/html": [
       "<div>\n",
       "<style scoped>\n",
       "    .dataframe tbody tr th:only-of-type {\n",
       "        vertical-align: middle;\n",
       "    }\n",
       "\n",
       "    .dataframe tbody tr th {\n",
       "        vertical-align: top;\n",
       "    }\n",
       "\n",
       "    .dataframe thead th {\n",
       "        text-align: right;\n",
       "    }\n",
       "</style>\n",
       "<table border=\"1\" class=\"dataframe\">\n",
       "  <thead>\n",
       "    <tr style=\"text-align: right;\">\n",
       "      <th></th>\n",
       "      <th>hosp_yn_Yes</th>\n",
       "      <th>icu_yn_Yes</th>\n",
       "      <th>medcond_yn_Yes</th>\n",
       "    </tr>\n",
       "  </thead>\n",
       "  <tbody>\n",
       "    <tr>\n",
       "      <th>0</th>\n",
       "      <td>0</td>\n",
       "      <td>0</td>\n",
       "      <td>0</td>\n",
       "    </tr>\n",
       "    <tr>\n",
       "      <th>1</th>\n",
       "      <td>0</td>\n",
       "      <td>0</td>\n",
       "      <td>0</td>\n",
       "    </tr>\n",
       "    <tr>\n",
       "      <th>2</th>\n",
       "      <td>0</td>\n",
       "      <td>0</td>\n",
       "      <td>0</td>\n",
       "    </tr>\n",
       "    <tr>\n",
       "      <th>3</th>\n",
       "      <td>0</td>\n",
       "      <td>0</td>\n",
       "      <td>0</td>\n",
       "    </tr>\n",
       "    <tr>\n",
       "      <th>4</th>\n",
       "      <td>0</td>\n",
       "      <td>0</td>\n",
       "      <td>0</td>\n",
       "    </tr>\n",
       "  </tbody>\n",
       "</table>\n",
       "</div>"
      ],
      "text/plain": [
       "   hosp_yn_Yes  icu_yn_Yes  medcond_yn_Yes\n",
       "0            0           0               0\n",
       "1            0           0               0\n",
       "2            0           0               0\n",
       "3            0           0               0\n",
       "4            0           0               0"
      ]
     },
     "execution_count": 42,
     "metadata": {},
     "output_type": "execute_result"
    }
   ],
   "source": [
    "x2 = df.drop(['death_yn_Yes','cdc_report_dt', 'onset_dt', 'interval_dt',\n",
    "       'current_status_Probable Case', 'sex_Male', 'age_group_10 - 19 Years',\n",
    "       'age_group_20 - 29 Years', 'age_group_30 - 39 Years',\n",
    "       'age_group_40 - 49 Years', 'age_group_50 - 59 Years',\n",
    "       'age_group_60 - 69 Years', 'age_group_70 - 79 Years',\n",
    "       'age_group_80+ Years',\n",
    "       'Race and ethnicity (combined)_Asian, Non-Hispanic',\n",
    "       'Race and ethnicity (combined)_Black, Non-Hispanic',\n",
    "       'Race and ethnicity (combined)_Hispanic/Latino',\n",
    "       'Race and ethnicity (combined)_Multiple/Other, Non-Hispanic',\n",
    "       'Race and ethnicity (combined)_Native Hawaiian/Other Pacific Islander, Non-Hispanic',\n",
    "       'Race and ethnicity (combined)_Unknown',\n",
    "       'Race and ethnicity (combined)_White, Non-Hispanic',], axis = 1)\n",
    "x2.head()"
   ]
  },
  {
   "cell_type": "code",
   "execution_count": 44,
   "metadata": {},
   "outputs": [],
   "source": [
    "x2_train, x2_test, y_train, y_test = train_test_split(x2, y, test_size = 0.2, random_state = 42)"
   ]
  },
  {
   "cell_type": "code",
   "execution_count": 47,
   "metadata": {},
   "outputs": [],
   "source": [
    "lg2=LogisticRegression(C=0.1, solver = 'lbfgs', max_iter = 1000)"
   ]
  },
  {
   "cell_type": "code",
   "execution_count": 52,
   "metadata": {},
   "outputs": [
    {
     "name": "stdout",
     "output_type": "stream",
     "text": [
      "Fitting 5 folds for each of 24 candidates, totalling 120 fits\n"
     ]
    },
    {
     "name": "stderr",
     "output_type": "stream",
     "text": [
      "[Parallel(n_jobs=1)]: Using backend SequentialBackend with 1 concurrent workers.\n",
      "[Parallel(n_jobs=1)]: Done 120 out of 120 | elapsed:   46.6s finished\n"
     ]
    },
    {
     "data": {
      "text/plain": [
       "GridSearchCV(cv=5,\n",
       "             estimator=Pipeline(steps=[('pca', PCA()),\n",
       "                                       ('lg',\n",
       "                                        LogisticRegression(C=0.01,\n",
       "                                                           max_iter=1000))]),\n",
       "             param_grid={'lg__C': [1000, 100, 10, 1, 0.1, 0.01],\n",
       "                         'pca__n_components': range(0, 4)},\n",
       "             scoring='roc_auc', verbose=1)"
      ]
     },
     "execution_count": 52,
     "metadata": {},
     "output_type": "execute_result"
    }
   ],
   "source": [
    "pipe = Pipeline([('pca', PCA()),('lg', LogisticRegression(C=0.01, solver = 'lbfgs', max_iter = 1000))])\n",
    "param_grid = {'pca__n_components':  range(0, 4),'lg__C':[1000,100,10,1,0.1,0.01]}\n",
    "grid2 = GridSearchCV(pipe, cv = 5, param_grid = param_grid, scoring = 'roc_auc', refit=True, verbose=1)\n",
    "grid2.fit(x2_train,y_train)"
   ]
  },
  {
   "cell_type": "code",
   "execution_count": 53,
   "metadata": {},
   "outputs": [
    {
     "name": "stdout",
     "output_type": "stream",
     "text": [
      "Model with rank: 1\n",
      "Mean validation score: 0.917 (std: 0.001)\n",
      "Parameters: {'lg__C': 1000, 'pca__n_components': 2}\n",
      "\n",
      "Model with rank: 1\n",
      "Mean validation score: 0.917 (std: 0.001)\n",
      "Parameters: {'lg__C': 1000, 'pca__n_components': 3}\n",
      "\n",
      "Model with rank: 1\n",
      "Mean validation score: 0.917 (std: 0.001)\n",
      "Parameters: {'lg__C': 100, 'pca__n_components': 2}\n",
      "\n",
      "Model with rank: 1\n",
      "Mean validation score: 0.917 (std: 0.001)\n",
      "Parameters: {'lg__C': 100, 'pca__n_components': 3}\n",
      "\n",
      "Model with rank: 1\n",
      "Mean validation score: 0.917 (std: 0.001)\n",
      "Parameters: {'lg__C': 10, 'pca__n_components': 2}\n",
      "\n",
      "Model with rank: 1\n",
      "Mean validation score: 0.917 (std: 0.001)\n",
      "Parameters: {'lg__C': 10, 'pca__n_components': 3}\n",
      "\n",
      "Model with rank: 1\n",
      "Mean validation score: 0.917 (std: 0.001)\n",
      "Parameters: {'lg__C': 1, 'pca__n_components': 2}\n",
      "\n",
      "Model with rank: 1\n",
      "Mean validation score: 0.917 (std: 0.001)\n",
      "Parameters: {'lg__C': 1, 'pca__n_components': 3}\n",
      "\n",
      "Model with rank: 1\n",
      "Mean validation score: 0.917 (std: 0.001)\n",
      "Parameters: {'lg__C': 0.1, 'pca__n_components': 2}\n",
      "\n",
      "Model with rank: 1\n",
      "Mean validation score: 0.917 (std: 0.001)\n",
      "Parameters: {'lg__C': 0.1, 'pca__n_components': 3}\n",
      "\n",
      "Model with rank: 1\n",
      "Mean validation score: 0.917 (std: 0.001)\n",
      "Parameters: {'lg__C': 0.01, 'pca__n_components': 2}\n",
      "\n",
      "Model with rank: 1\n",
      "Mean validation score: 0.917 (std: 0.001)\n",
      "Parameters: {'lg__C': 0.01, 'pca__n_components': 3}\n",
      "\n"
     ]
    }
   ],
   "source": [
    "report(grid2.cv_results_)"
   ]
  },
  {
   "cell_type": "code",
   "execution_count": 54,
   "metadata": {},
   "outputs": [
    {
     "name": "stdout",
     "output_type": "stream",
     "text": [
      "AUC: 0.92\n"
     ]
    }
   ],
   "source": [
    "predict_prob2 = grid2.predict_proba(x2_test)\n",
    "\n",
    "fpr3, tpr3, thresholds3 = roc_curve(y_test, predict_prob2[:, 1])\n",
    "\n",
    "print('AUC: {:.2f}'.format(auc(fpr3, tpr3)))"
   ]
  },
  {
   "cell_type": "code",
   "execution_count": 55,
   "metadata": {},
   "outputs": [
    {
     "data": {
      "image/png": "[encoded data removed]",
      "text/plain": [
       "<Figure size 504x360 with 1 Axes>"
      ]
     },
     "metadata": {
      "needs_background": "light"
     },
     "output_type": "display_data"
    }
   ],
   "source": [
    "plt.figure(figsize = (7, 5))\n",
    "plt.plot(fpr, tpr, color = 'darkorange', lw = 2, label = 'Logistic Reg')\n",
    "plt.plot([0, 1], [0, 1], color = 'navy', lw = 2, linestyle = '--', label = 'Random Guess')\n",
    "plt.title('AUC of Logistic Model')\n",
    "plt.xlabel('False Positive Rate (1-Specificity)')\n",
    "plt.ylabel('True Positive Rate (Recall)' )\n",
    "plt.xlim([0.0, 1.0])\n",
    "plt.ylim([0.0, 1.0])\n",
    "plt.legend()\n",
    "plt.show();"
   ]
  },
  {
   "cell_type": "code",
   "execution_count": 56,
   "metadata": {},
   "outputs": [
    {
     "name": "stdout",
     "output_type": "stream",
     "text": [
      "confusion matrix:\n",
      " [[67481  1794]\n",
      " [ 2308  2355]]\n",
      "classification report:\n",
      "               precision    recall  f1-score   support\n",
      "\n",
      "           0       0.97      0.97      0.97     69275\n",
      "           1       0.57      0.51      0.53      4663\n",
      "\n",
      "    accuracy                           0.94     73938\n",
      "   macro avg       0.77      0.74      0.75     73938\n",
      "weighted avg       0.94      0.94      0.94     73938\n",
      "\n"
     ]
    }
   ],
   "source": [
    "predict3 = grid2.predict(x2_test)\n",
    "cm3 = confusion_matrix(y_test, predict3)\n",
    "print('confusion matrix:\\n', cm3)\n",
    "\n",
    "print('classification report:\\n', classification_report(y_test, predict3))"
   ]
  },
  {
   "cell_type": "code",
   "execution_count": 58,
   "metadata": {},
   "outputs": [
    {
     "data": {
      "text/plain": [
       "LogisticRegression(C=1000, max_iter=1000)"
      ]
     },
     "execution_count": 58,
     "metadata": {},
     "output_type": "execute_result"
    }
   ],
   "source": [
    "lg2 = LogisticRegression(C=1000, solver = 'lbfgs', max_iter = 1000)\n",
    "lg2.fit(x2_train,y_train)"
   ]
  },
  {
   "cell_type": "code",
   "execution_count": 59,
   "metadata": {},
   "outputs": [
    {
     "data": {
      "text/plain": [
       "array([[2.55241924, 1.63858532, 1.96050898]])"
      ]
     },
     "execution_count": 59,
     "metadata": {},
     "output_type": "execute_result"
    }
   ],
   "source": [
    "lg2.coef_"
   ]
  }
 ],
 "metadata": {
  "kernelspec": {
   "display_name": "Python 3",
   "language": "python",
   "name": "python3"
  },
  "language_info": {
   "codemirror_mode": {
    "name": "ipython",
    "version": 3
   },
   "file_extension": ".py",
   "mimetype": "text/x-python",
   "name": "python",
   "nbconvert_exporter": "python",
   "pygments_lexer": "ipython3",
   "version": "3.8.8"
  }
 },
 "nbformat": 4,
 "nbformat_minor": 4
}
